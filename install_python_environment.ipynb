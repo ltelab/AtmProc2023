{
 "cells": [
  {
   "cell_type": "markdown",
   "id": "29dd8fba-1e7a-422b-905c-4e999e70311f",
   "metadata": {},
   "source": [
    "# Creation of the virtual environment\n",
    "\n",
    "Noto provides a basic installation of python. To complete the exercise, we need a few extra libraries.\n",
    "\n",
    "We will install them in a virtual environment.\n",
    "First, we need to create the environment. Run the code in the following cell, by selecting it and pressing \"Shift Enter\".\n",
    "\n",
    "**Note: the installation can take up to a few minutes, but if it is too long, restart the kernel (circular arrow next to the stop button in the top bar)**"
   ]
  },
  {
   "cell_type": "code",
   "execution_count": 1,
   "id": "2ba55834-eef1-4889-885d-c06848a9f0df",
   "metadata": {
    "tags": []
   },
   "outputs": [
    {
     "name": "stdout",
     "output_type": "stream",
     "text": [
      "Environment '/home/my_venvs/atm_proc' already exists.\n"
     ]
    }
   ],
   "source": [
    "# Creating the virtual environment\n",
    "my_venvs_create atm_proc\n",
    "# Once the environment has been created, we can activate it\n",
    "my_venvs_activate atm_proc"
   ]
  },
  {
   "cell_type": "markdown",
   "id": "a283b02e-451f-44ac-bd01-d3fab4e1325c",
   "metadata": {},
   "source": [
    "# Installation of the python libraries\n",
    "\n",
    "Some of the following libraries are used in the exercise, while others will be useful for the project that you will need to complete later during the semester.\n",
    "\n",
    "The following cell installs all the libraries. Execute it by selecting it and pressing \"Shift Enter\". Note: this can take some time."
   ]
  },
  {
   "cell_type": "code",
   "execution_count": 7,
   "id": "bc14def7-9c22-4bfd-ab3f-2cdf2b0863f2",
   "metadata": {
    "tags": []
   },
   "outputs": [
    {
     "name": "stdout",
     "output_type": "stream",
     "text": [
      "Requirement already satisfied: netCDF4 in /home/my_venvs/atm_proc/lib/python3.10/site-packages (1.6.4)\n",
      "Requirement already satisfied: metpy in /home/my_venvs/atm_proc/lib/python3.10/site-packages (1.5.1)\n",
      "Requirement already satisfied: arm-pyart in /home/my_venvs/atm_proc/lib/python3.10/site-packages (1.16.0)\n",
      "Collecting ipykernel\n",
      "  Downloading ipykernel-6.25.2-py3-none-any.whl (154 kB)\n",
      "     ━━━━━━━━━━━━━━━━━━━━━━━━━━━━━━━━━━━━━━━ 154.2/154.2 KB 1.5 MB/s eta 0:00:00\n",
      "\n",
      "Requirement already satisfied: certifi in /usr/lib/python3/dist-packages (from netCDF4) (2020.6.20)\n",
      "Requirement already satisfied: numpy in /home/my_venvs/atm_proc/lib/python3.10/site-packages (from netCDF4) (1.26.0)\n",
      "Requirement already satisfied: cftime in /home/my_venvs/atm_proc/lib/python3.10/site-packages (from netCDF4) (1.6.2)\n",
      "Requirement already satisfied: pandas>=1.0.0 in /home/my_venvs/atm_proc/lib/python3.10/site-packages (from metpy) (2.1.1)\n",
      "Requirement already satisfied: pooch>=1.2.0 in /home/my_venvs/atm_proc/lib/python3.10/site-packages (from metpy) (1.7.0)\n",
      "Requirement already satisfied: scipy>=1.4.0 in /home/my_venvs/atm_proc/lib/python3.10/site-packages (from metpy) (1.11.2)\n",
      "Requirement already satisfied: matplotlib>=3.3.0 in /home/my_venvs/atm_proc/lib/python3.10/site-packages (from metpy) (3.8.0)\n",
      "Requirement already satisfied: xarray>=0.18.0 in /home/my_venvs/atm_proc/lib/python3.10/site-packages (from metpy) (2023.8.0)\n",
      "Requirement already satisfied: traitlets>=5.0.5 in /home/my_venvs/atm_proc/lib/python3.10/site-packages (from metpy) (5.10.0)\n",
      "Requirement already satisfied: pint>=0.15 in /home/my_venvs/atm_proc/lib/python3.10/site-packages (from metpy) (0.22)\n",
      "Requirement already satisfied: pyproj>=2.6.1 in /home/my_venvs/atm_proc/lib/python3.10/site-packages (from metpy) (3.6.1)\n",
      "Requirement already satisfied: s3fs in /home/my_venvs/atm_proc/lib/python3.10/site-packages (from arm-pyart) (2023.9.1)\n",
      "Requirement already satisfied: open-radar-data in /home/my_venvs/atm_proc/lib/python3.10/site-packages (from arm-pyart) (0.0.5)\n",
      "Requirement already satisfied: fsspec in /home/my_venvs/atm_proc/lib/python3.10/site-packages (from arm-pyart) (2023.9.1)\n",
      "Requirement already satisfied: xradar in /home/my_venvs/atm_proc/lib/python3.10/site-packages (from arm-pyart) (0.3.0)\n",
      "Collecting comm>=0.1.1\n",
      "  Downloading comm-0.1.4-py3-none-any.whl (6.6 kB)\n",
      "Collecting nest-asyncio\n",
      "  Downloading nest_asyncio-1.5.8-py3-none-any.whl (5.3 kB)\n",
      "Collecting jupyter-client>=6.1.12\n",
      "  Downloading jupyter_client-8.3.1-py3-none-any.whl (104 kB)\n",
      "     ━━━━━━━━━━━━━━━━━━━━━━━━━━━━━━━━━━━━━━━ 104.1/104.1 KB 2.2 MB/s eta 0:00:00\n",
      "\n",
      "Collecting ipython>=7.23.1\n",
      "  Downloading ipython-8.15.0-py3-none-any.whl (806 kB)\n",
      "     ━━━━━━━━━━━━━━━━━━━━━━━━━━━━━━━━━━━━━━━ 806.6/806.6 KB 4.1 MB/s eta 0:00:00\n",
      "\n",
      "Collecting matplotlib-inline>=0.1\n",
      "  Downloading matplotlib_inline-0.1.6-py3-none-any.whl (9.4 kB)\n",
      "Collecting jupyter-core!=5.0.*,>=4.12\n",
      "  Downloading jupyter_core-5.3.1-py3-none-any.whl (93 kB)\n",
      "     ━━━━━━━━━━━━━━━━━━━━━━━━━━━━━━━━━━━━━━━━ 93.7/93.7 KB 2.2 MB/s eta 0:00:00\n",
      "\n",
      "Requirement already satisfied: psutil in /usr/lib/python3/dist-packages (from ipykernel) (5.9.0)\n",
      "Collecting pyzmq>=20\n",
      "  Downloading pyzmq-25.1.1-cp310-cp310-manylinux_2_28_x86_64.whl (1.1 MB)\n",
      "     ━━━━━━━━━━━━━━━━━━━━━━━━━━━━━━━━━━━━━━━━ 1.1/1.1 MB 6.2 MB/s eta 0:00:00\n",
      "\n",
      "Collecting tornado>=6.1\n",
      "  Downloading tornado-6.3.3-cp38-abi3-manylinux_2_5_x86_64.manylinux1_x86_64.manylinux_2_17_x86_64.manylinux2014_x86_64.whl (427 kB)\n",
      "     ━━━━━━━━━━━━━━━━━━━━━━━━━━━━━━━━━━━━━━━ 427.7/427.7 KB 3.7 MB/s eta 0:00:00\n",
      "\n",
      "Collecting debugpy>=1.6.5\n",
      "  Downloading debugpy-1.8.0-cp310-cp310-manylinux_2_17_x86_64.manylinux2014_x86_64.whl (3.3 MB)\n",
      "     ━━━━━━━━━━━━━━━━━━━━━━━━━━━━━━━━━━━━━━━━ 3.3/3.3 MB 12.0 MB/s eta 0:00:00\n",
      "\n",
      "Requirement already satisfied: packaging in /home/my_venvs/atm_proc/lib/python3.10/site-packages (from ipykernel) (23.1)\n",
      "Collecting pickleshare\n",
      "  Downloading pickleshare-0.7.5-py2.py3-none-any.whl (6.9 kB)\n",
      "Collecting exceptiongroup\n",
      "  Downloading exceptiongroup-1.1.3-py3-none-any.whl (14 kB)\n",
      "Collecting pygments>=2.4.0\n",
      "  Downloading Pygments-2.16.1-py3-none-any.whl (1.2 MB)\n",
      "     ━━━━━━━━━━━━━━━━━━━━━━━━━━━━━━━━━━━━━━━━ 1.2/1.2 MB 7.9 MB/s eta 0:00:00\n",
      "\n",
      "Collecting jedi>=0.16\n",
      "  Downloading jedi-0.19.0-py2.py3-none-any.whl (1.6 MB)\n",
      "     ━━━━━━━━━━━━━━━━━━━━━━━━━━━━━━━━━━━━━━━━ 1.6/1.6 MB 9.2 MB/s eta 0:00:00\n",
      "\n",
      "Collecting decorator\n",
      "  Downloading decorator-5.1.1-py3-none-any.whl (9.1 kB)\n",
      "Collecting stack-data\n",
      "  Downloading stack_data-0.6.2-py3-none-any.whl (24 kB)\n",
      "Collecting backcall\n",
      "  Downloading backcall-0.2.0-py2.py3-none-any.whl (11 kB)\n",
      "Collecting prompt-toolkit!=3.0.37,<3.1.0,>=3.0.30\n",
      "  Downloading prompt_toolkit-3.0.39-py3-none-any.whl (385 kB)\n",
      "     ━━━━━━━━━━━━━━━━━━━━━━━━━━━━━━━━━━━━━━━ 385.2/385.2 KB 3.5 MB/s eta 0:00:00\n",
      "\n",
      "Requirement already satisfied: pexpect>4.3 in /usr/lib/python3/dist-packages (from ipython>=7.23.1->ipykernel) (4.8.0)\n",
      "Requirement already satisfied: python-dateutil>=2.8.2 in /home/my_venvs/atm_proc/lib/python3.10/site-packages (from jupyter-client>=6.1.12->ipykernel) (2.8.2)\n",
      "Requirement already satisfied: platformdirs>=2.5 in /usr/lib/python3/dist-packages (from jupyter-core!=5.0.*,>=4.12->ipykernel) (2.5.1)\n",
      "Requirement already satisfied: pyparsing>=2.3.1 in /usr/lib/python3/dist-packages (from matplotlib>=3.3.0->metpy) (2.4.7)\n",
      "Requirement already satisfied: fonttools>=4.22.0 in /home/my_venvs/atm_proc/lib/python3.10/site-packages (from matplotlib>=3.3.0->metpy) (4.42.1)\n",
      "Requirement already satisfied: pillow>=6.2.0 in /home/my_venvs/atm_proc/lib/python3.10/site-packages (from matplotlib>=3.3.0->metpy) (10.0.1)\n",
      "Requirement already satisfied: contourpy>=1.0.1 in /home/my_venvs/atm_proc/lib/python3.10/site-packages (from matplotlib>=3.3.0->metpy) (1.1.1)\n",
      "Requirement already satisfied: cycler>=0.10 in /home/my_venvs/atm_proc/lib/python3.10/site-packages (from matplotlib>=3.3.0->metpy) (0.11.0)\n",
      "Requirement already satisfied: kiwisolver>=1.0.1 in /home/my_venvs/atm_proc/lib/python3.10/site-packages (from matplotlib>=3.3.0->metpy) (1.4.5)\n",
      "Requirement already satisfied: tzdata>=2022.1 in /home/my_venvs/atm_proc/lib/python3.10/site-packages (from pandas>=1.0.0->metpy) (2023.3)\n",
      "Requirement already satisfied: pytz>=2020.1 in /usr/lib/python3/dist-packages (from pandas>=1.0.0->metpy) (2022.1)\n",
      "Requirement already satisfied: typing-extensions in /home/my_venvs/atm_proc/lib/python3.10/site-packages (from pint>=0.15->metpy) (4.8.0)\n",
      "Requirement already satisfied: requests>=2.19.0 in /usr/lib/python3/dist-packages (from pooch>=1.2.0->metpy) (2.25.1)\n",
      "Requirement already satisfied: aiohttp!=4.0.0a0,!=4.0.0a1 in /home/my_venvs/atm_proc/lib/python3.10/site-packages (from s3fs->arm-pyart) (3.8.5)\n",
      "Requirement already satisfied: aiobotocore~=2.5.4 in /home/my_venvs/atm_proc/lib/python3.10/site-packages (from s3fs->arm-pyart) (2.5.4)\n",
      "Requirement already satisfied: dask in /home/my_venvs/atm_proc/lib/python3.10/site-packages (from xradar->arm-pyart) (2023.9.2)\n",
      "Requirement already satisfied: xarray-datatree>=0.0.10 in /home/my_venvs/atm_proc/lib/python3.10/site-packages (from xradar->arm-pyart) (0.0.12)\n",
      "Requirement already satisfied: h5netcdf in /home/my_venvs/atm_proc/lib/python3.10/site-packages (from xradar->arm-pyart) (1.2.0)\n",
      "Requirement already satisfied: xmltodict in /home/my_venvs/atm_proc/lib/python3.10/site-packages (from xradar->arm-pyart) (0.13.0)\n",
      "Requirement already satisfied: h5py in /home/my_venvs/atm_proc/lib/python3.10/site-packages (from xradar->arm-pyart) (3.9.0)\n",
      "Requirement already satisfied: lat-lon-parser in /home/my_venvs/atm_proc/lib/python3.10/site-packages (from xradar->arm-pyart) (1.3.0)\n",
      "Requirement already satisfied: wrapt<2.0.0,>=1.10.10 in /home/my_venvs/atm_proc/lib/python3.10/site-packages (from aiobotocore~=2.5.4->s3fs->arm-pyart) (1.15.0)\n",
      "Requirement already satisfied: aioitertools<1.0.0,>=0.5.1 in /home/my_venvs/atm_proc/lib/python3.10/site-packages (from aiobotocore~=2.5.4->s3fs->arm-pyart) (0.11.0)\n",
      "Requirement already satisfied: botocore<1.31.18,>=1.31.17 in /home/my_venvs/atm_proc/lib/python3.10/site-packages (from aiobotocore~=2.5.4->s3fs->arm-pyart) (1.31.17)\n",
      "Requirement already satisfied: attrs>=17.3.0 in /usr/lib/python3/dist-packages (from aiohttp!=4.0.0a0,!=4.0.0a1->s3fs->arm-pyart) (21.2.0)\n",
      "Requirement already satisfied: async-timeout<5.0,>=4.0.0a3 in /home/my_venvs/atm_proc/lib/python3.10/site-packages (from aiohttp!=4.0.0a0,!=4.0.0a1->s3fs->arm-pyart) (4.0.3)\n",
      "Requirement already satisfied: frozenlist>=1.1.1 in /home/my_venvs/atm_proc/lib/python3.10/site-packages (from aiohttp!=4.0.0a0,!=4.0.0a1->s3fs->arm-pyart) (1.4.0)\n",
      "Requirement already satisfied: multidict<7.0,>=4.5 in /home/my_venvs/atm_proc/lib/python3.10/site-packages (from aiohttp!=4.0.0a0,!=4.0.0a1->s3fs->arm-pyart) (6.0.4)\n",
      "Requirement already satisfied: aiosignal>=1.1.2 in /home/my_venvs/atm_proc/lib/python3.10/site-packages (from aiohttp!=4.0.0a0,!=4.0.0a1->s3fs->arm-pyart) (1.3.1)\n",
      "Requirement already satisfied: yarl<2.0,>=1.0 in /home/my_venvs/atm_proc/lib/python3.10/site-packages (from aiohttp!=4.0.0a0,!=4.0.0a1->s3fs->arm-pyart) (1.9.2)\n",
      "Requirement already satisfied: charset-normalizer<4.0,>=2.0 in /home/my_venvs/atm_proc/lib/python3.10/site-packages (from aiohttp!=4.0.0a0,!=4.0.0a1->s3fs->arm-pyart) (3.2.0)\n",
      "Collecting parso<0.9.0,>=0.8.3\n",
      "  Downloading parso-0.8.3-py2.py3-none-any.whl (100 kB)\n",
      "     ━━━━━━━━━━━━━━━━━━━━━━━━━━━━━━━━━━━━━━━ 100.8/100.8 KB 2.3 MB/s eta 0:00:00\n",
      "\n",
      "Collecting wcwidth\n",
      "  Downloading wcwidth-0.2.6-py2.py3-none-any.whl (29 kB)\n",
      "Requirement already satisfied: six>=1.5 in /usr/lib/python3/dist-packages (from python-dateutil>=2.8.2->jupyter-client>=6.1.12->ipykernel) (1.16.0)\n",
      "Requirement already satisfied: partd>=1.2.0 in /home/my_venvs/atm_proc/lib/python3.10/site-packages (from dask->xradar->arm-pyart) (1.4.0)\n",
      "Requirement already satisfied: click>=8.0 in /usr/lib/python3/dist-packages (from dask->xradar->arm-pyart) (8.0.3)\n",
      "Requirement already satisfied: cloudpickle>=1.5.0 in /home/my_venvs/atm_proc/lib/python3.10/site-packages (from dask->xradar->arm-pyart) (2.2.1)\n",
      "Requirement already satisfied: importlib-metadata>=4.13.0 in /home/my_venvs/atm_proc/lib/python3.10/site-packages (from dask->xradar->arm-pyart) (6.8.0)\n",
      "Requirement already satisfied: toolz>=0.10.0 in /home/my_venvs/atm_proc/lib/python3.10/site-packages (from dask->xradar->arm-pyart) (0.12.0)\n",
      "Requirement already satisfied: pyyaml>=5.3.1 in /usr/lib/python3/dist-packages (from dask->xradar->arm-pyart) (5.4.1)\n",
      "Collecting asttokens>=2.1.0\n",
      "  Downloading asttokens-2.4.0-py2.py3-none-any.whl (27 kB)\n",
      "Collecting pure-eval\n",
      "  Downloading pure_eval-0.2.2-py3-none-any.whl (11 kB)\n",
      "Collecting executing>=1.2.0\n",
      "  Downloading executing-1.2.0-py2.py3-none-any.whl (24 kB)\n",
      "Requirement already satisfied: jmespath<2.0.0,>=0.7.1 in /home/my_venvs/atm_proc/lib/python3.10/site-packages (from botocore<1.31.18,>=1.31.17->aiobotocore~=2.5.4->s3fs->arm-pyart) (1.0.1)\n",
      "Requirement already satisfied: urllib3<1.27,>=1.25.4 in /usr/lib/python3/dist-packages (from botocore<1.31.18,>=1.31.17->aiobotocore~=2.5.4->s3fs->arm-pyart) (1.26.5)\n",
      "Requirement already satisfied: zipp>=0.5 in /usr/lib/python3/dist-packages (from importlib-metadata>=4.13.0->dask->xradar->arm-pyart) (1.0.0)\n",
      "Requirement already satisfied: locket in /home/my_venvs/atm_proc/lib/python3.10/site-packages (from partd>=1.2.0->dask->xradar->arm-pyart) (1.0.0)\n",
      "Requirement already satisfied: idna>=2.0 in /usr/lib/python3/dist-packages (from yarl<2.0,>=1.0->aiohttp!=4.0.0a0,!=4.0.0a1->s3fs->arm-pyart) (3.3)\n",
      "Installing collected packages: wcwidth, pure-eval, pickleshare, executing, backcall, tornado, pyzmq, pygments, prompt-toolkit, parso, nest-asyncio, matplotlib-inline, jupyter-core, exceptiongroup, decorator, debugpy, comm, asttokens, stack-data, jupyter-client, jedi, ipython, ipykernel\n",
      "Successfully installed asttokens-2.4.0 backcall-0.2.0 comm-0.1.4 debugpy-1.8.0 decorator-5.1.1 exceptiongroup-1.1.3 executing-1.2.0 ipykernel-6.25.2 ipython-8.15.0 jedi-0.19.0 jupyter-client-8.3.1 jupyter-core-5.3.1 matplotlib-inline-0.1.6 nest-asyncio-1.5.8 parso-0.8.3 pickleshare-0.7.5 prompt-toolkit-3.0.39 pure-eval-0.2.2 pygments-2.16.1 pyzmq-25.1.1 stack-data-0.6.2 tornado-6.3.3 wcwidth-0.2.6\n"
     ]
    }
   ],
   "source": [
    "# List of libraries that we are installing:\n",
    "# - NetCDF allows us to read the radar data, which are stored in netCDF format\n",
    "# - PyART is a library specifically designed to analyze radar data\n",
    "# - Metpy helps us in reading, visualizing and performing simple analyses with weather data\n",
    "# - ipykernel is required for the jupyter notebooks to run.\n",
    "pip install netCDF4 metpy arm-pyart ipykernel"
   ]
  },
  {
   "cell_type": "markdown",
   "id": "72cf85a5-f832-4b83-a7a0-b520a87fdda5",
   "metadata": {},
   "source": [
    "# Creating the kernel\n",
    "\n",
    "The following code creates a kernel, that you will have to activate in the notebook of the exercise."
   ]
  },
  {
   "cell_type": "code",
   "execution_count": 8,
   "id": "81e02b3f-f725-429d-a2b3-22a6ac6305c6",
   "metadata": {
    "tags": []
   },
   "outputs": [
    {
     "name": "stdout",
     "output_type": "stream",
     "text": [
      "Installed kernelspec radar_ex in /home/.local/share/jupyter/kernels/radar_ex\n"
     ]
    }
   ],
   "source": [
    "my_kernels_create radar_ex \"Radar ex\""
   ]
  },
  {
   "cell_type": "code",
   "execution_count": null,
   "id": "b5ec40f3-432e-4bc3-abe4-992dae87aa11",
   "metadata": {},
   "outputs": [],
   "source": []
  }
 ],
 "metadata": {
  "kernelspec": {
   "display_name": "Bash",
   "language": "bash",
   "name": "bash"
  },
  "language_info": {
   "codemirror_mode": "shell",
   "file_extension": ".sh",
   "mimetype": "text/x-sh",
   "name": "bash"
  }
 },
 "nbformat": 4,
 "nbformat_minor": 5
}
