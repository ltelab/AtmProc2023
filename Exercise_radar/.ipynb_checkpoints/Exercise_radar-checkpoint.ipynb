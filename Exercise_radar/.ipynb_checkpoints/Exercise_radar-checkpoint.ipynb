{
 "cells": [
  {
   "cell_type": "markdown",
   "id": "12cd608c-63c8-4d2a-ba55-05171268d9aa",
   "metadata": {
    "tags": []
   },
   "source": [
    "# Atmospheric processes: from cloud to global scales\n",
    "# Exercise on radar data\n",
    "\n",
    "## Introduction\n",
    "\n",
    "In this exercise, we will analyze radar measurements from the ICE GENESIS campaign that took place close in La Chaux-de-Fonds (NE) in January 2021.\n",
    "\n",
    "We will look at data from two radars:\n",
    "\n",
    "- The first one is referred to as **\"WProf\"**:\n",
    "    - It is a 94 GHz (i.e. W-band) Doppler spectral zenith profiler (i.e. vertically-pointing). \n",
    "    - It was located in the city of la Chaux-de-Fonds.\n",
    "    - You will look at timeseries of radar moments as well as radar Doppler spectra from single timesteps (last part of the exercise).\n",
    "    - One particular feature is that it measures radar variables in three \"chirps\", corresponding to three altitude ranges. The first chirp (\"chirp0\") corresponds to measurements up to 1000 m , the second (\"chirp1\") from 1000m to 3500m and the last one (\"chirp2\") from 3500m to 8600m above ground. This information will be useful in the last part of the exercise."
   ]
  },
  {
   "cell_type": "markdown",
   "id": "1e3cc83d-9a6e-4f3f-9dd2-29ede964df21",
   "metadata": {
    "tags": []
   },
   "source": [
    "- The second radar is referred to as **\"MXPol\"**:\n",
    "    - It is a 9.4 GHz (i.e. X-band) polarimetric scanning radar.\n",
    "    - It was located 4.8 km to the South-East of the site where WProf was deployed.\n",
    "    - Its measurements consisted mainly of RHI (i.e. range-height indicators). This means that the radar scans across elevation angles, at a given azimuth (for further explanation, see e.g. http://ww2010.atmos.uiuc.edu/(Gh)/guides/rs/rad/basics/cnmod.rxml).\n",
    "    - You will look at radar variables: radar equivalent reflectivity in horizontal polarization (Z$_H$), differential reflectivity (Z$_{DR}$), copolar correlation coefficient ($\\rho_{hv}$)\n",
    "    - You will also be provided with a product called \"hydrometeor classification\". The latter is derived using a semi-supervised algorithm (Besic et al., 2016, https://doi.org/10.5194/amt-9-4425-2016 ) which identifies the dominant hydrometeor type (e.g. rain, hail, snow aggregates) in the radar volumes.\n",
    "\n",
    "\n",
    "In addition, we will use data from the COSMO high-resolution model (https://www.cosmo-model.org/), mostly to study the vertical structure of the atmosphere over la Chaux-de-Fonds at different timesteps. Note that the relative humidity variable corresponds to relative humidity with respect to liquid water.\n",
    "\n",
    "The data that we will look at were collected between January 26 and January 28, 2021."
   ]
  },
  {
   "cell_type": "markdown",
   "id": "919dd1c3-5a40-4780-ad8c-15fa3d74ba87",
   "metadata": {},
   "source": [
    "### Preparing Python for the exercise\n",
    "\n",
    "You will need to install some Python libraries for executing the code in this exercise.\n",
    "A notebook has been created for the installation, and it is available at:\n",
    "\n",
    "https://noto.epfl.ch/hub/user-redirect/git-pull?repo=https%3A%2F%2Fgithub.com%2Falfonso-ferrone%2Fexercise_public&urlpath=lab%2Ftree%2Fexercise_public%2Finstall_python_environment.ipynb%3Fautodecode&branch=main&depth=1\n",
    "\n",
    "Access it and execute the code in it. When you finish the installation, come back to this notebook for completing the exercise."
   ]
  },
  {
   "cell_type": "markdown",
   "id": "8334e872-8c20-466e-b823-7f66cf7b483f",
   "metadata": {},
   "source": [
    "### Activating the kernel\n",
    "\n",
    "In the installation notebook, we creatred a virtual environment in which we installed some python libraries. A kernel has been associated to this environment.\n",
    "You will need to activate this kernel for the current exercise for loading the libraries correctly.\n",
    "\n",
    "Click on the \"Switch kernel\" button in the right hand corner of the screen. It is the small text on the left of the circle (\"kernel status\" indicator) and on the right of the bug icon (\"Debugger\" icon).\n",
    "Once you click on it, a drop-down menu will appear and you will be able to select the kernel we created, called \"Radar ex\".\n",
    "Select \"Radar ex\" in the list and click on the \"Select\" button.\n",
    "\n",
    "If the \"Radar ex\" kernel does not appear in the drop-down menu, interrupt the current kernel (square button in the bar at the top of this tab) and restart it (circular arrow, on the right of the square button).\n",
    "Then, repeat the procedure to select the \"Radar ex\" kernel, and it should appear in the list."
   ]
  },
  {
   "cell_type": "markdown",
   "id": "a87a89e3-0e7c-4fa7-a4b3-8c5a824de389",
   "metadata": {},
   "source": [
    "### General instructions\n",
    "This exercise does not require to code in Python. You will simply have to execute the cells one after the other by pressing Shift + Enter. In a few cells, you will have to adjust the values of certain variables, which will be specified clearly.\n",
    "\n",
    "The questions will guide you through an interpretation of the radar variables in terms of cloud or precipitation microphysical properties and processes.\n",
    "The more difficult questions are indicated with a star (*).\n"
   ]
  },
  {
   "cell_type": "markdown",
   "id": "d967b139-0dda-4a87-b49c-66da1bf2511b",
   "metadata": {},
   "source": [
    "### IMPORTANT \n",
    "**To run this notebook, make sure that the libraries are properly installed following the procedure described in the cells above.**\n",
    "\n",
    "\n"
   ]
  },
  {
   "cell_type": "markdown",
   "id": "bec2231e-570e-4a64-981f-f6c8e4fb4ce4",
   "metadata": {},
   "source": [
    "The cell below imports the required libraries and loads the data files to be used.\n",
    "\n",
    "Throughout the exercise you may see some warning appearing in the output, but they should not impact negatively its execution. In case the list of warning is too long, you can just hide it by right-clicking on it and selecting \"Clear Outputs\"."
   ]
  },
  {
   "cell_type": "code",
   "execution_count": null,
   "id": "d5f4bc10-303a-4ab5-95c7-e638491d4235",
   "metadata": {},
   "outputs": [],
   "source": [
    "import xarray as xr\n",
    "import numpy as np\n",
    "import matplotlib.pyplot as plt\n",
    "import datetime\n",
    "import warnings\n",
    "warnings.filterwarnings('ignore')\n",
    "from metpy import calc\n",
    "from metpy.units import units\n",
    "import matplotlib.dates as mdates\n",
    "import matplotlib as mpl\n",
    "cmap_mask = mpl.colors.ListedColormap('lightgray')\n",
    "import pandas as pd\n",
    "date_fmt = mdates.DateFormatter('%d/%m\\n%H:%M')\n",
    "plt.rcParams['font.size']=15\n",
    "from PIL import Image\n",
    "import pyart\n",
    "import warnings\n",
    "warnings.filterwarnings(\"ignore\")\n",
    "\n",
    "ALT_CDF = 1020.\n",
    "\n",
    "radar = xr.open_dataset('Data/WPROF_CDF_ICEGENESIS_COMP_202101261000_202101282159.nc')\n",
    "dt = [datetime.datetime.utcfromtimestamp(tt) for tt in radar.time]\n",
    "ds_cosmo = xr.open_dataset('Data/COSMO_profiles_CDF_20210126_20210128.nc')\n"
   ]
  },
  {
   "cell_type": "markdown",
   "id": "c9d73111-eb94-42e2-be5c-19622db92cee",
   "metadata": {},
   "source": [
    "### Overview of the event\n",
    "\n",
    "The first cells will require a relatively long time to be executed. Don't worry if the notebook takes a couple of minutes for the execution."
   ]
  },
  {
   "cell_type": "code",
   "execution_count": null,
   "id": "1b4961d2-5d0d-4ce7-8b61-8aba3de0d863",
   "metadata": {},
   "outputs": [],
   "source": [
    "plt.rcParams['font.size']=15\n",
    "fig, axs = plt.subplots(2,figsize=(25,10),sharey=True,sharex=True)\n",
    "im0=axs[0].pcolormesh(dt,radar.range_gates, radar.Ze.T,cmap='turbo',vmin=-50)\n",
    "plt.colorbar(im0,label='Ze [dBZ]',pad=0.02,ax=axs[0])\n",
    "im1=axs[1].pcolormesh(dt,radar.range_gates, radar.mean_Doppler_velocity.T,cmap='bwr',vmin=-3.5,vmax=3.5)\n",
    "plt.colorbar(im1,label='MDV [m s$^{-1}$]',pad=0.02,ax=axs[1])\n",
    "axs[0].set_title('Equivalent radar reflectivity (Ze) at W-band')\n",
    "axs[1].set_title('Mean Doppler velocity (MDV) at W-band')\n",
    "for ax in axs:\n",
    "    ax.set_facecolor('lightgray')\n",
    "    ax.set_ylabel('Altitude above radar [km]')\n",
    "    ax.set_xlim(datetime.datetime(2021,1,26,10),datetime.datetime(2021,1,28,21))\n",
    "    ax.xaxis.set_major_formatter(date_fmt)\n",
    "    ax.pcolormesh([(datetime.datetime(2021,1,27,16,30)),datetime.datetime(2021,1,27,18,58)],[0,8.7],np.ones((2,2)),cmap = cmap_mask,shading='gouraud')\n",
    "    ax.pcolormesh([(datetime.datetime(2021,1,27,2,30)),datetime.datetime(2021,1,27,2,58)],[0,8.7],np.ones((2,2)),cmap = cmap_mask,shading='gouraud')\n",
    "    ax.set_ylim(radar.range_gates[0],radar.range_gates[-1])\n",
    "    ax.grid()\n"
   ]
  },
  {
   "cell_type": "markdown",
   "id": "cdef97fb-b979-402d-a654-ee420f7a2b44",
   "metadata": {},
   "source": [
    "> **Question 1**: Recall the physical meaning of radar reflectivity (Ze) and mean Doppler velocity (MDV). What are the radar targets here? What information do Ze and MDV respectively convey?"
   ]
  },
  {
   "cell_type": "markdown",
   "id": "47b839ca-f8b1-42da-bf06-fc8c1593c87b",
   "metadata": {},
   "source": [
    "Before conducting further analyses, we will improve the quality of the figures by removing the background noise from the Ze and MDV variables.\n",
    "\n",
    "For this, we will use a threshold on the signal-to-noise ratio (SNR), expressed in dB. In the cell below, we plot the SNR timeseries as well as the Ze and MDV timeseries after implementation of an SNR-based noise removal.\\\n",
    "**You will have to adjust the variable `SNR_THRESHOLD` to a value that you find suitable.** \\\n",
    "This value will be set for the rest of the exercise."
   ]
  },
  {
   "cell_type": "code",
   "execution_count": null,
   "id": "3eb8b093-b770-4bfc-bc07-b38f88c72a80",
   "metadata": {},
   "outputs": [],
   "source": [
    "### variable to be changed\n",
    "SNR_THRESHOLD = -80\n",
    "#####\n",
    "\n",
    "#Implementation of the mask:\n",
    "radar = xr.open_dataset('Data/WPROF_CDF_ICEGENESIS_COMP_202101261000_202101282159.nc')\n",
    "radar.Ze.values[radar.SNR<SNR_THRESHOLD]=np.nan\n",
    "radar.mean_Doppler_velocity.values[radar.SNR<SNR_THRESHOLD]=np.nan\n",
    "\n",
    "plt.rcParams['font.size']=15\n",
    "fig, axs = plt.subplots(3,figsize=(25,15),sharey=True,sharex=True)\n",
    "im0=axs[0].pcolormesh(dt,radar.range_gates, radar.SNR.T,cmap='plasma',vmin=-25)\n",
    "plt.colorbar(im0,label='SNR [dB]',pad=0.02,ax=axs[0])\n",
    "im1=axs[1].pcolormesh(dt,radar.range_gates, radar.Ze.T,cmap='turbo',vmin=-50)\n",
    "plt.colorbar(im1,label='Ze [dBZ]',pad=0.02,ax=axs[1])\n",
    "im2=axs[2].pcolormesh(dt,radar.range_gates, radar.mean_Doppler_velocity.T,cmap='bwr',vmin=-3.5,vmax=3.5)\n",
    "plt.colorbar(im2,label='MDV [m s$^{-1}$]',pad=0.02,ax=axs[2])\n",
    "for ax in axs:\n",
    "    ax.set_facecolor('lightgray')\n",
    "    ax.set_ylabel('Altitude above radar [km]')\n",
    "    ax.set_xlim(datetime.datetime(2021,1,26,10),datetime.datetime(2021,1,28,21))\n",
    "    ax.xaxis.set_major_formatter(date_fmt)\n",
    "    ax.pcolormesh([(datetime.datetime(2021,1,27,16,30)),datetime.datetime(2021,1,27,18,58)],[0,8.7],np.ones((2,2)),cmap = cmap_mask,shading='gouraud')\n",
    "    ax.pcolormesh([(datetime.datetime(2021,1,27,2,30)),datetime.datetime(2021,1,27,2,58)],[0,8.7],np.ones((2,2)),cmap = cmap_mask,shading='gouraud')\n",
    "    ax.set_ylim(radar.range_gates[0],radar.range_gates[-1])\n",
    "    ax.grid()\n"
   ]
  },
  {
   "cell_type": "markdown",
   "id": "695b913a-102b-4b6c-a4fd-611715bfb88b",
   "metadata": {},
   "source": [
    "> **Question 2**: What value did you choose for the threshold in SNR? Explain your choice.\n",
    "\n",
    "> **Question 3**: When is precipitation observed at the ground, and what type(s) of precipitation is (are) observed? Explain.\n",
    "\n",
    "> **Question 4**: Identify at least 3 different types of clouds in these timeseries. Specify at what time steps and in which altitude range you identify them, and how."
   ]
  },
  {
   "cell_type": "markdown",
   "id": "682075a3-7d78-48ae-91d7-a372043f622a",
   "metadata": {},
   "source": [
    "We will now focus on different time frames within this precipitation event, looking at different radar variables."
   ]
  },
  {
   "cell_type": "markdown",
   "id": "1eb2a3c4-89c7-4d8a-a7fd-22c043b55674",
   "metadata": {},
   "source": [
    "### 03:00-06:30 UTC"
   ]
  },
  {
   "cell_type": "code",
   "execution_count": null,
   "id": "50493710-7679-42f2-821c-bf650eb14b9a",
   "metadata": {},
   "outputs": [],
   "source": [
    "fig, ax = plt.subplots(1,figsize=(15,5),sharey=True,sharex=True)\n",
    "im0=ax.pcolormesh(dt,radar.range_gates, radar.Ze.T,cmap='turbo',vmin=-50)\n",
    "plt.colorbar(im0,label='Ze [dBZ]',pad=0.02,ax=ax)\n",
    "\n",
    "ax.set_xlim(datetime.datetime(2021,1,26,10),datetime.datetime(2021,1,29,0))\n",
    "ax.xaxis.set_major_formatter(date_fmt)\n",
    "ax.grid()\n",
    "ax.set_ylabel('Altitude above radar [km]')\n",
    "_ =ax.set_xlim(datetime.datetime(2021,1,27,3,0),datetime.datetime(2021,1,27,6,20))\n",
    "ax.set_facecolor('lightgray')\n"
   ]
  },
  {
   "cell_type": "markdown",
   "id": "70d77b76-c76c-4134-a197-550047bd524d",
   "metadata": {},
   "source": [
    "> **Question 5**: What microphysical process do you think is taking place below 1 km between 03UTC and 04:15UTC approximately? What might cause it? (e.g. in terms of atmospheric state variables)\n",
    "\n",
    "> **Question 6 (*)**: Identify fall streaks of precipitation. Explain why we observe such structures. What do you think influences their shape (in terms of microphysical and/or atmospheric descriptors)?\n"
   ]
  },
  {
   "cell_type": "markdown",
   "id": "5fd42413-7bca-44ae-b28c-98d7ebd03362",
   "metadata": {},
   "source": [
    "In the cell below, we plot profiles of atmospheric variables above la Chaux-de-Fonds from the COSMO high-resolution model at 03:00 and 06:00 UTC.\n",
    "\n",
    "(Acronym RH means \"Relative humidity\", in all our plots it is relative to liquid water)"
   ]
  },
  {
   "cell_type": "code",
   "execution_count": null,
   "id": "a78c3b65-72c2-4d0d-82ac-b8a1b157a182",
   "metadata": {},
   "outputs": [],
   "source": [
    "nt0 = 27\n",
    "nt1 = 30\n",
    "dt0 = pd.to_datetime(ds_cosmo['dt'][nt0].values)\n",
    "dt1 = pd.to_datetime(ds_cosmo['dt'][nt1].values)\n",
    "\n",
    "fig,axs = plt.subplots(1,4,figsize=(14,8),sharey=True)\n",
    "axs[0].plot(ds_cosmo['temperature'][nt0,:],ds_cosmo['z'][:]-ALT_CDF,'k',lw=2.5)\n",
    "axs[0].plot(ds_cosmo['temperature'][nt1,:],ds_cosmo['z'][:]-ALT_CDF,'r',lw=2.5)\n",
    "axs[0].plot([273.15,273.15],[0,10000],'--',color='gray',label='0°C')\n",
    "axs[0].set_xlabel('Temperature [K]')\n",
    "axs[0].legend(loc='upper right',fontsize=13)\n",
    "\n",
    "axs[1].plot(ds_cosmo['RH'][nt0,:],ds_cosmo['z'][:]-ALT_CDF,'k',lw=2.5,label=dt0)\n",
    "axs[1].plot(ds_cosmo['RH'][nt1,:],ds_cosmo['z'][:]-ALT_CDF,'r',lw=2.5,label=dt1)\n",
    "axs[1].set_xlabel('RH (liquid water) [%]')\n",
    "\n",
    "axs[2].plot(np.sqrt(ds_cosmo['U'][nt0,:]**2+ds_cosmo['V'][nt0,:]**2),ds_cosmo['z'][:]-ALT_CDF,'k',lw=2.5)\n",
    "axs[2].plot(np.sqrt(ds_cosmo['U'][nt1,:]**2+ds_cosmo['V'][nt1,:]**2),ds_cosmo['z'][:]-ALT_CDF,'r',lw=2.5)\n",
    "axs[2].set_xlabel('Wind speed [m s$^{-1}$]')\n",
    "\n",
    "axs[3].plot(270-180/np.pi*np.arctan(ds_cosmo['V'][nt0,:]/ds_cosmo['U'][nt0,:]),ds_cosmo['z'][:]-ALT_CDF,'k',lw=2.5)\n",
    "axs[3].plot(270-180/np.pi*np.arctan(ds_cosmo['V'][nt1,:]/ds_cosmo['U'][nt1,:]),ds_cosmo['z'][:]-ALT_CDF,'r',lw=2.5)\n",
    "axs[3].set_xlabel('Wind direction [°]')\n",
    "\n",
    "for ax in axs:\n",
    "    ax.grid()\n",
    "    ax.set_ylim(0,9000)\n",
    "axs[1].legend(bbox_to_anchor=(1,1),loc='lower center',ncol=2)\n",
    "_=axs[0].set_ylabel('Height above ground [m]')"
   ]
  },
  {
   "cell_type": "markdown",
   "id": "ff5bbdbd-5449-40c4-badb-f7d50a7d3058",
   "metadata": {},
   "source": [
    "> **Question 7.a)**: Looking at these profiles, what is the main change between 03 and 06UTC, and how does this relate to the radar reflectivity timeseries you observed before (03:00 - 06:30UTC)?\n",
    "\n",
    "> **Question 7.b)**: Do these profiles help confirm / revisit your answers to question 5, and how?\n",
    "\n",
    "> **Question 7.c)**: How about question 6?\n"
   ]
  },
  {
   "cell_type": "markdown",
   "id": "cbe5348c-3daf-4d41-bfd8-79fb8aeac0aa",
   "metadata": {},
   "source": [
    "### 06:30-12:30 UTC"
   ]
  },
  {
   "cell_type": "markdown",
   "id": "f2b77124-24b3-4ffa-9742-eef60852dbe3",
   "metadata": {},
   "source": [
    "We now focus on a second short timeframe.\n"
   ]
  },
  {
   "cell_type": "code",
   "execution_count": null,
   "id": "4be25c57-a7ff-4d1d-a9be-98c0c5fbff66",
   "metadata": {},
   "outputs": [],
   "source": [
    "fig, axs = plt.subplots(2,1,figsize=(15,10),sharey=True,sharex=True)\n",
    "im0=axs[0].pcolormesh(dt,radar.range_gates, radar.Ze.T,cmap='turbo',vmin=-50)\n",
    "plt.colorbar(im0,label='Ze [dBZ]',pad=0.02,ax=axs[0])\n",
    "im1=axs[1].pcolormesh(dt,radar.range_gates, radar.mean_Doppler_velocity.T,cmap='bwr',vmin=-2.5,vmax=2.5)\n",
    "plt.colorbar(im1,label='MDV [m s$^{-1}$]',pad=0.02,ax=axs[1])\n",
    "\n",
    "for ax in axs:\n",
    "    ax.set_xlim(datetime.datetime(2021,1,27,6,30),datetime.datetime(2021,1,27,11,20))\n",
    "    ax.xaxis.set_major_formatter(date_fmt)\n",
    "    ax.grid()\n",
    "    ax.set_facecolor('lightgray')\n",
    "\n",
    "    ax.set_ylabel('Altitude above radar [km]')\n",
    "\n"
   ]
  },
  {
   "cell_type": "markdown",
   "id": "ca06cf84-516b-4cf6-bd5e-000303004920",
   "metadata": {},
   "source": [
    "> **Question 8**: Identify signatures of clouds, precipitation, and virgae in these timeseries (define their temporal and altitude range).\n",
    "\n",
    "> **Question 9**: Describe the structures that can be observed in radar reflectivity and mean Doppler velocity around 3-3.5km range, e.g. betw. 08:30 and 09:30 UTC? What do you think they can be due to? \n",
    "*Note: you can zoom into the timeseries by changing the bounds in the line:* `ax.set_xlim(datetime.datetime(2021,1,27,6,30),datetime.datetime(2021,1,27,12,20))`\n",
    "\n",
    "\n",
    "> **Question 10 a)**: Look at the shallow layer around 1 km range, which persists from ~07:00UTC to ~11:00UTC. What do you think it corresponds to in terms of hydrometeors? To answer this question, take into account the signatures in Ze and Doppler velocity, as well as the spatio-temporal structure of the layer.\n",
    "\n",
    "> **Question 10 b)**: Identify time steps and height ranges when various cloud structures \"merge\" in the radar signal: what is happening here? From your knowledge of usual microphysical processes, what process(es) do you think may take place in these conditions? \n",
    "\n",
    "> **Question 10 c)**: What do you observe in this layer around 1 km range between ~06:50UTC and ~07:30UTC, in MDV?"
   ]
  },
  {
   "cell_type": "markdown",
   "id": "fcba254f-ff80-474f-8041-2c61969620e0",
   "metadata": {},
   "source": [
    "Like before, we plot profiles of atmospheric variables above la Chaux-de-Fonds from the COSMO high-resolution model (https://www.cosmo-model.org/), this time at 09:00 and 11:00 UTC."
   ]
  },
  {
   "cell_type": "code",
   "execution_count": null,
   "id": "bf686f64-ebbe-47fa-847f-7ae36f26aa5a",
   "metadata": {},
   "outputs": [],
   "source": [
    "nt0 = 33\n",
    "nt1 = 35\n",
    "dt0 = pd.to_datetime(ds_cosmo['dt'][nt0].values)\n",
    "dt1 = pd.to_datetime(ds_cosmo['dt'][nt1].values)\n",
    "\n",
    "fig,axs = plt.subplots(1,4,figsize=(14,8),sharey=True)\n",
    "axs[0].plot(ds_cosmo['temperature'][nt0,:],ds_cosmo['z'][:]-ALT_CDF,'k',lw=2.5)\n",
    "axs[0].plot(ds_cosmo['temperature'][nt1,:],ds_cosmo['z'][:]-ALT_CDF,'r',lw=2.5)\n",
    "axs[0].plot([273.15,273.15],[0,10000],'--',color='gray',label='0°C')\n",
    "axs[0].set_xlabel('Temperature [K]')\n",
    "axs[0].legend(loc='upper right',fontsize=13)\n",
    "\n",
    "axs[1].plot(ds_cosmo['RH'][nt0,:],ds_cosmo['z'][:]-ALT_CDF,'k',lw=2.5,label=dt0)\n",
    "axs[1].plot(ds_cosmo['RH'][nt1,:],ds_cosmo['z'][:]-ALT_CDF,'r',lw=2.5,label=dt1)\n",
    "axs[1].set_xlabel('Relative humidity [%]')\n",
    "\n",
    "axs[2].plot(np.sqrt(ds_cosmo['U'][nt0,:]**2+ds_cosmo['V'][nt0,:]**2),ds_cosmo['z'][:]-ALT_CDF,'k',lw=2.5)\n",
    "axs[2].plot(np.sqrt(ds_cosmo['U'][nt1,:]**2+ds_cosmo['V'][nt1,:]**2),ds_cosmo['z'][:]-ALT_CDF,'r',lw=2.5)\n",
    "axs[2].set_xlabel('Wind speed [m s$^{-1}$]')\n",
    "\n",
    "axs[3].plot(270-180/np.pi*np.arctan(ds_cosmo['V'][nt0,:]/ds_cosmo['U'][nt0,:]),ds_cosmo['z'][:]-ALT_CDF,'k',lw=2.5)\n",
    "axs[3].plot(270-180/np.pi*np.arctan(ds_cosmo['V'][35,:]/ds_cosmo['U'][35,:]),ds_cosmo['z'][:]-ALT_CDF,'r',lw=2.5)\n",
    "axs[3].set_xlabel('Wind direction [°]')\n",
    "# plt.ylim\n",
    "for ax in axs:\n",
    "    ax.grid()\n",
    "    ax.set_ylim(0,9000)\n",
    "axs[1].legend(bbox_to_anchor=(1,1),loc='lower center',ncol=2)\n",
    "_=axs[0].set_ylabel('Height above ground [m]')"
   ]
  },
  {
   "cell_type": "markdown",
   "id": "bb7d3fa1-5584-44ad-9480-f3b3a1dcf7c0",
   "metadata": {},
   "source": [
    "> **Question 11 a)**: Are these profiles compatible with / do they confirm your answer to question 10a?\n",
    "\n",
    "> **Question 11 b) (*)**: Looking at the wind information, can you get an intuition of how this layer (i.e. around 1 km range) could be formed? \n"
   ]
  },
  {
   "cell_type": "markdown",
   "id": "d78358df-3384-45ef-a91e-1a06d48067b3",
   "metadata": {},
   "source": [
    "### 13:00 - 14:30 UTC"
   ]
  },
  {
   "cell_type": "markdown",
   "id": "d3b905be-849d-4977-8a25-3cb8c324c753",
   "metadata": {},
   "source": [
    "In the next example, many signatures are visible. We focus for now on the layer with enhanced radar reflectivity around ~500m. "
   ]
  },
  {
   "cell_type": "code",
   "execution_count": null,
   "id": "409046a7-0f71-4aa1-8a21-78ddd4fdd39d",
   "metadata": {},
   "outputs": [],
   "source": [
    "fig, axs = plt.subplots(2,1,figsize=(15,10),sharex=True)\n",
    "im0=axs[0].pcolormesh(dt,radar.range_gates, radar.Ze.T,cmap='turbo',vmin=-50)\n",
    "plt.colorbar(im0,label='Ze [dBZ]',pad=0.02,ax=axs[0])\n",
    "im1=axs[1].pcolormesh(dt,radar.range_gates, radar.mean_Doppler_velocity.T,cmap='bwr',vmin=-3.5,vmax=3.5)\n",
    "plt.colorbar(im1,label='MDV [m s$^{-1}$]',pad=0.02,ax=axs[1])\n",
    "for ax in axs:\n",
    "    ax.set_xlim(datetime.datetime(2021,1,28,3,30),datetime.datetime(2021,1,28,5,30))\n",
    "    ax.xaxis.set_major_formatter(date_fmt)\n",
    "    ax.grid()\n",
    "    ax.set_facecolor('lightgray')\n",
    "    ax.set_ylabel('Altitude above radar [km]')"
   ]
  },
  {
   "cell_type": "markdown",
   "id": "d297ea25-7dc4-4e23-aa80-7a48edaa95c6",
   "metadata": {},
   "source": [
    "> **Question 12** What is happening around and below the 1000m level in these timeseries?\n"
   ]
  },
  {
   "cell_type": "markdown",
   "id": "0ebbfa80-e147-4db1-b7a1-c8eeaadc5797",
   "metadata": {},
   "source": [
    "In complement to these W-band timeseries, we can look at the RHI measurements from MXPol.\n",
    "We recall that at a given time step, the radar scans across elevation angles, in a given direction in azimuth. \n",
    "\n",
    "In the figures below, the dashed black line indicates the vertical profile over la Chaux-de-Fonds (i.e. which is viewed by WProf).\\\n",
    "The legend for the hydrometeor classification is as follows: IH: Ice Hail / MH: Melting Hail / WS: Wet Snow / VI: Vertically-aligned Ice / RN: Rain / RP: Rimed Particles / LR: Light Rain / CR: Crystals / AG: Aggregates"
   ]
  },
  {
   "cell_type": "code",
   "execution_count": null,
   "id": "3b4236e8-63d7-46af-a71a-d5f49bf5f65d",
   "metadata": {
    "tags": []
   },
   "outputs": [],
   "source": [
    "mxpol = pyart.io.read_cfradial('Data/MXPOL_RHI_20210128-050056.nc')\n",
    "Rhohv = mxpol.fields['Rhohv']['data'].data\n",
    "Psidp = mxpol.fields['Psidp']['data'].data\n",
    "mask_from_rhohv = (Rhohv<0.35) | (Psidp>-30)\n",
    "mxpol.fields['Zh']['data'].mask=mask_from_rhohv\n",
    "mxpol.fields['Zdr']['data'].mask=mask_from_rhohv\n",
    "mxpol.fields['Rhohv']['data'].mask=mask_from_rhohv\n",
    "mxpol.fields['Kdp']['data'].mask=mask_from_rhohv\n",
    "mxpol.fields['Psidp']['data'].mask=mask_from_rhohv\n",
    "mxpol.fields['RVel']['data'].mask=mask_from_rhohv\n",
    "mxpol.fields['hydro']['data'].mask=mask_from_rhohv\n",
    "mxpol.fields['hydro']['data'][mxpol.fields['hydro']['data']>200.] = np.nan\n",
    "\n",
    "vdopmin=-41\n",
    "vdopmax=41\n",
    "\n",
    "fig,axs = plt.subplots(2,2,figsize=(14,10))\n",
    "display = pyart.graph.RadarDisplay(mxpol)\n",
    "display.plot('Zh',vmin=-20,vmax=35,cmap='turbo',ax=axs[0,0])\n",
    "display.plot('Zdr',vmin=-.5,vmax=4,cmap='plasma',ax=axs[0,1])\n",
    "display.plot('Rhohv',vmin=0.6,vmax=1,cmap='viridis',ax=axs[1,0])\n",
    "cmap = mpl.colors.ListedColormap([\"blue\", \"deepskyblue\", \"green\", \"gold\", \"orange\", \"red\", 'magenta', 'purple','brown'])\n",
    "norm = mpl.colors.BoundaryNorm(np.arange(2,12), cmap.N) \n",
    "cbarticks = np.arange(2,11)+.5\n",
    "legendNoVI = ['AG', 'CR', 'LR', 'RP', 'RN', 'VI', 'WS', 'MH', 'IH']\n",
    "cax = display.plot('hydro',cmap=cmap,norm=norm,ticks=cbarticks,ticklabs=legendNoVI,ax=axs[1,1])\n",
    "cbar = display.cbs[0]\n",
    "\n",
    "for ax in axs.flatten():\n",
    "    ax.set_facecolor('lightgray')    \n",
    "    ax.set_yticks(np.arange(0,6)-0.150)\n",
    "    ax.set_yticklabels(np.arange(0,6))\n",
    "    ax.set_ylim(0.15,5)\n",
    "    ax.set_xlim(-10,0)\n",
    "    ax.grid()\n",
    "    ax.plot([-4.8,-4.8],[0,6],'--k',lw=2)\n",
    "    ax.set_ylabel('Height above ground [km]')\n",
    "fig.tight_layout()"
   ]
  },
  {
   "cell_type": "markdown",
   "id": "b20f45fa-9dc0-45af-a6ee-36d970407b15",
   "metadata": {},
   "source": [
    "> **Question 13 a)**: What do those features (i.e. the ones you identified in the previous question) correspond to in the RHIs of MXPol? Look at the different variables and the hydrometeor classification.\n",
    "\n",
    "> **Question 13 b) (*)**: What do the high and low Zdr features in the top left of the RHI (between 3 and 5 km of altitude and within 6-10 km of horizontal distance) correspond to in the hydrometeor classification? Why?"
   ]
  },
  {
   "cell_type": "code",
   "execution_count": null,
   "id": "3cd5a1a2-b95a-4a7e-9419-5f8bd562bfd1",
   "metadata": {},
   "outputs": [],
   "source": [
    "ds_cosmo = xr.open_dataset('Data/COSMO_profiles_CDF_20210126_20210128.nc')\n",
    "nt0 = 53\n",
    "dt0 = pd.to_datetime(ds_cosmo['dt'][nt0].values)\n",
    "\n",
    "fig,axs = plt.subplots(1,4,figsize=(14,8),sharey=True)\n",
    "axs[0].plot(ds_cosmo['temperature'][nt0,:],ds_cosmo['z'][:]-ALT_CDF,'k',lw=2.5)\n",
    "axs[0].plot([273.15,273.15],[0,10000],'--',color='gray',label='0°C')\n",
    "axs[0].set_xlabel('Temperature [K]')\n",
    "axs[0].legend(loc='upper right',fontsize=13)\n",
    "\n",
    "axs[1].plot(ds_cosmo['RH'][nt0,:],ds_cosmo['z'][:]-ALT_CDF,'k',lw=2.5,label=dt0)\n",
    "axs[1].set_xlabel('Relative humidity [%]')\n",
    "\n",
    "axs[2].plot(np.sqrt(ds_cosmo['U'][nt0,:]**2+ds_cosmo['V'][nt0,:]**2),ds_cosmo['z'][:]-ALT_CDF,'k',lw=2.5)\n",
    "axs[2].set_xlabel('Wind speed [m s$^{-1}$]')\n",
    "\n",
    "axs[3].plot(270-180/np.pi*np.arctan(ds_cosmo['V'][nt0,:]/ds_cosmo['U'][nt0,:]),ds_cosmo['z'][:]-ALT_CDF,'k',lw=2.5)\n",
    "axs[3].set_xlabel('Wind direction [°]')\n",
    "# plt.ylim\n",
    "for ax in axs:\n",
    "    ax.grid()\n",
    "    ax.set_ylim(0,9000)\n",
    "axs[1].legend(bbox_to_anchor=(1,1),loc='lower center',ncol=2)\n",
    "_=axs[0].set_ylabel('Height above ground [m]')"
   ]
  },
  {
   "cell_type": "markdown",
   "id": "2e5747d3-7338-439a-93c8-a377fe3dbde4",
   "metadata": {},
   "source": [
    "> **Question 14** Are the COSMO profiles consistent with your interpretation of the radar measurements (questions 12 and 13.a)?"
   ]
  },
  {
   "cell_type": "markdown",
   "id": "6d2d1191-0bfb-45c2-ba43-529e5dadc080",
   "metadata": {},
   "source": [
    "## Doppler spectra"
   ]
  },
  {
   "cell_type": "markdown",
   "id": "8459c47b-9cda-42c7-8853-9a80aa668e57",
   "metadata": {},
   "source": [
    "In the last part of this exercise, we look at Doppler spectra measured by the W-band radar, during different stages of the event.\n",
    "\n",
    "First, we focus on an example of Doppler spectra measured at 05:09UTC. In the cell below, we display the entire \"spectrogram\", i.e. the vertical stack of Doppler spectra measured at each range gate."
   ]
  },
  {
   "cell_type": "code",
   "execution_count": null,
   "id": "e730f048-69bb-4566-9ca2-0e18829095a6",
   "metadata": {},
   "outputs": [],
   "source": [
    "ds= xr.open_dataset('Data/210127_050927_LV0.nc')\n",
    "\n",
    "plt.figure(figsize=(5,10))\n",
    "dv0 = ds['vel0'][1]-ds['vel0'][0]\n",
    "dv1 = ds['vel1'][1]-ds['vel1'][0]\n",
    "dv2 = ds['vel2'][1]-ds['vel2'][0]\n",
    "plt.pcolormesh(ds['vel0'],ds['rg0'],10*np.log10(ds['spec0']/dv0),vmin=-40,vmax=20,cmap='plasma')\n",
    "plt.pcolormesh(ds['vel1'],ds['rg1'],10*np.log10(ds['spec1']/dv1),vmin=-40,vmax=20,cmap='plasma')\n",
    "plt.pcolormesh(ds['vel2'],ds['rg2'],10*np.log10(ds['spec2']/dv2),vmin=-40,vmax=20,cmap='plasma')\n",
    "plt.title(ds.date)\n",
    "plt.xlim(-5,3)\n",
    "plt.grid()\n",
    "plt.colorbar(label='spectral reflectivity [dBsZ]')\n",
    "plt.ylabel('Altitude above radar [m]')\n",
    "_ =plt.ylim(0,8000)\n"
   ]
  },
  {
   "cell_type": "markdown",
   "id": "079c1cd3-3782-4224-84ac-9df6f04b387f",
   "metadata": {},
   "source": [
    "If we want to be more precise, we can also look at a single Doppler spectrum, at a chosen range gate. In the following cell, you can change the variables `chirp` and `nrg` which allow you to choose the range at which to plot the Doppler spectrum. `chirp = 0` corresponds to ranges below 1000 m, `chirp = 1` to ranges between 1000 m and 3600 m; `chirp = 2` to ranges above 3600 m; within each chirp, `nrg` controls the index of the range gate to be plotted.\n",
    "\n",
    "To save the plot, change the value of `save` to 1."
   ]
  },
  {
   "cell_type": "code",
   "execution_count": null,
   "id": "5738b345-7ce9-4b48-a2c1-469bed77a853",
   "metadata": {},
   "outputs": [],
   "source": [
    "### variables that can be changed \n",
    "chirp = 1 # Should be 0 (lowest), 1, or 2 (highest)\n",
    "nrg = 50\n",
    "save = 0 # If you want to save the figure.\n",
    "#####\n",
    "fig = plt.figure(figsize=(8,5))\n",
    "plt.plot(ds['vel%d'%chirp],10*np.log10(ds['spec%d'%chirp][nrg,:]))\n",
    "plt.title('Chirp %d - range = %.2f m'%(chirp,ds['rg%d'%chirp][nrg]))\n",
    "plt.grid()\n",
    "plt.ylabel('[dBZ]')\n",
    "_=plt.xlabel('Doppler velocity [m s$^{-1}$]')\n",
    "if save:\n",
    "    fig.savefig('210127_050927_chirp%d_nrg%d'%(chirp, nrg), dpi=200, bbox_inches='tight', facecolor='w')"
   ]
  },
  {
   "cell_type": "markdown",
   "id": "30a53ac8-02d2-4259-93ec-515178404e0d",
   "metadata": {},
   "source": [
    "> **Question 15**: Explain how Doppler spectra can help get insight into the microphysical properties of clouds or precipitation. \n",
    "\n",
    "> **Question 16**: Look at the full spectrogram plotted above (27/01, 05:09 UTC). What do you observe at ~2000m and ~3000m above ground, and what do you think it reveals?\n",
    "\n",
    "> **Question 17 a)**: In the cell above, change the `chirp` and `nrg` parameters to display one example of spectrum at low altitude (below 1000 m) and one at high altitude (above 5000 m). Describe the differences. What does this reveal in terms of cloud / precipitation microphysical properties in these two regions, and is this expected ? \n",
    "\n",
    "> **Question 17 (*)**: Starting from the top of the spectrogram, indicate what are in your view the microphysical processes (e.g. growth/ decay mechanisms) that are taking place ? "
   ]
  },
  {
   "cell_type": "code",
   "execution_count": null,
   "id": "1a42ccf7-9b9f-4a6c-af26-198597493e01",
   "metadata": {},
   "outputs": [],
   "source": [
    "ds= xr.open_dataset('Data/210128_050412_LV0.nc')\n",
    "\n",
    "plt.figure(figsize=(5,10))\n",
    "dv0 = ds['vel0'][1]-ds['vel0'][0]\n",
    "dv1 = ds['vel1'][1]-ds['vel1'][0]\n",
    "dv2 = ds['vel2'][1]-ds['vel2'][0]\n",
    "plt.pcolormesh(ds['vel0'],ds['rg0'],10*np.log10(ds['spec0']/dv0),vmin=-40,vmax=20,cmap='plasma')\n",
    "plt.pcolormesh(ds['vel1'],ds['rg1'],10*np.log10(ds['spec1']/dv1),vmin=-40,vmax=20,cmap='plasma')\n",
    "plt.pcolormesh(ds['vel2'],ds['rg2'],10*np.log10(ds['spec2']/dv2),vmin=-40,vmax=20,cmap='plasma')\n",
    "plt.title(ds.date)\n",
    "plt.xlim(-10,3)\n",
    "plt.grid()\n",
    "plt.colorbar(label='spectral reflectivity [dBsZ]')\n",
    "plt.ylabel('Altitude above radar [m]')\n",
    "_ =plt.ylim(0,8000)\n"
   ]
  },
  {
   "cell_type": "markdown",
   "id": "e58ec701-c180-443a-9b50-6bfac9e820d8",
   "metadata": {},
   "source": [
    "> **Question 18**: In this new example (28/01, 05:04 UTC), make the link between what you observe in the spectrogram and your answers to question 12: where do you see the signatures that were visible in Ze and MDV? What additional information do you get from the spectrogram (compared to the timeseries), focusing on altitudes below 1000 m?"
   ]
  },
  {
   "cell_type": "code",
   "execution_count": null,
   "id": "adcc8d63-9312-4f70-a860-dc3b406a0641",
   "metadata": {},
   "outputs": [],
   "source": [
    "ds= xr.open_dataset('Data/210127_153926_LV0.nc')\n",
    "\n",
    "plt.figure(figsize=(5,10))\n",
    "dv0 = ds['vel0'][1]-ds['vel0'][0]\n",
    "dv1 = ds['vel1'][1]-ds['vel1'][0]\n",
    "dv2 = ds['vel2'][1]-ds['vel2'][0]\n",
    "plt.pcolormesh(ds['vel0'],ds['rg0'],10*np.log10(ds['spec0']/dv0),vmin=-40,vmax=20,cmap='plasma')\n",
    "plt.pcolormesh(ds['vel1'],ds['rg1'],10*np.log10(ds['spec1']/dv1),vmin=-40,vmax=20,cmap='plasma')\n",
    "plt.pcolormesh(ds['vel2'],ds['rg2'],10*np.log10(ds['spec2']/dv2),vmin=-40,vmax=20,cmap='plasma')\n",
    "plt.title(ds.date)\n",
    "plt.xlim(-5,3)\n",
    "plt.grid()\n",
    "plt.colorbar(label='spectral reflectivity [dBsZ]')\n",
    "plt.ylabel('Altitude above radar [m]')\n",
    "_ =plt.ylim(0,8000)\n"
   ]
  },
  {
   "cell_type": "code",
   "execution_count": null,
   "id": "82c36893-c08e-43b5-be80-e502ae15a135",
   "metadata": {},
   "outputs": [],
   "source": [
    "### variables that can be changed \n",
    "chirp = 1 # Should be 0 (lowest), 1, or 2 (highest)\n",
    "nrg = 50\n",
    "#####\n",
    "plt.figure(figsize=(8,5))\n",
    "plt.plot(ds['vel%d'%chirp],10*np.log10(ds['spec%d'%chirp][nrg,:]))\n",
    "plt.title('Chirp %d - range = %.2f m'%(chirp,ds['rg%d'%chirp][nrg]))\n",
    "plt.grid()\n",
    "plt.ylabel('[dBZ]')\n",
    "_=plt.xlabel('Doppler velocity [m s$^{-1}$]')"
   ]
  },
  {
   "cell_type": "markdown",
   "id": "7a354800-e155-4031-ae89-b5d04969ed87",
   "metadata": {},
   "source": [
    "> **Question 19 a)**: In this last example (27/01, 15:39 UTC), the spectrogram looks very different. Explain what this multimodal signature reveals.\n",
    "\n",
    "> **Question 19 b)**: What microphysical processes can be happening here? Try to address in particular the following points: what does the Doppler velocity of the leftmost mode suggest? What could cause the occurrence of the second mode below ~3000 m?\n",
    "\n",
    "In the cell below, we display an image collected by an aircraft performing in-situ measurements above the ground site where the radars were deployed, with an HVPS probe (https://airbornescience.nasa.gov/instrument/HVPS). Each line of the image should be interpreted as an instantaneous binary image of the volume \"viewed\" by the probe.\n",
    "At 15:39 UTC, the aircraft was flying just above WProf, at an altitude of 1100m above ground.\n",
    "\n",
    "> **Question 20**: Comment the image and put it in perspective with your answers to questions 15 a) and b). What would each mode correspond to? Explain the signatures in terms of both velocity and reflectivity.\n",
    "\n"
   ]
  },
  {
   "cell_type": "code",
   "execution_count": null,
   "id": "c4b301d1-cba0-4b75-bdb0-c5eda6e38c71",
   "metadata": {},
   "outputs": [],
   "source": [
    "Image.open('Data/Proj_Plat_HVPS_V_20210127_153930_551_153930_850_N04927.png')"
   ]
  }
 ],
 "metadata": {
  "kernelspec": {
   "display_name": "Radar ex",
   "language": "python",
   "name": "radar_ex"
  },
  "language_info": {
   "codemirror_mode": {
    "name": "ipython",
    "version": 3
   },
   "file_extension": ".py",
   "mimetype": "text/x-python",
   "name": "python",
   "nbconvert_exporter": "python",
   "pygments_lexer": "ipython3",
   "version": "3.8.10"
  }
 },
 "nbformat": 4,
 "nbformat_minor": 5
}
